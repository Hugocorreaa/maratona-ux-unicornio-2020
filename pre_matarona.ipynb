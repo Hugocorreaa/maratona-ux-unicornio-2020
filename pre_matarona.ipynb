{
  "nbformat": 4,
  "nbformat_minor": 0,
  "metadata": {
    "colab": {
      "name": "pre_matarona.ipynb",
      "provenance": [],
      "authorship_tag": "ABX9TyMTVDp1dubACWfZuKiPVNRc",
      "include_colab_link": true
    },
    "kernelspec": {
      "name": "python3",
      "display_name": "Python 3"
    }
  },
  "cells": [
    {
      "cell_type": "markdown",
      "metadata": {
        "id": "view-in-github",
        "colab_type": "text"
      },
      "source": [
        "<a href=\"https://colab.research.google.com/github/Hugocorreaa/matarona-ux-unicornio/blob/main/pre_matarona.ipynb\" target=\"_parent\"><img src=\"https://colab.research.google.com/assets/colab-badge.svg\" alt=\"Open In Colab\"/></a>"
      ]
    },
    {
      "cell_type": "markdown",
      "metadata": {
        "id": "-LzchDgGh2d3"
      },
      "source": [
        "# User eXperience Design - UX\n",
        "\n",
        "## Termos mais comúns\n",
        "\n",
        "*   **UX - User eXperience**\n",
        "*   **UI - User Interface**\n",
        "*   **Stakeholders**\n",
        "\n",
        "> *Pessoas interessadas no projeto (Diretor da empresa, investidor, equipe).*\n",
        "\n",
        "*   **Generalista**\n",
        "*   **Especialista**\n",
        "*   **UX Researcher**\n",
        "\n",
        "> *Especialista em pesquisa;*\n",
        "\n",
        "*   **T-shaped professional**\n",
        "\n",
        "> *Generalista que é especializado em algo.*\n",
        "\n",
        "*   **Valor de produto**\n",
        "\n",
        "> *Valor é entregar os benefícios esperados reduzindo os custos e minimizando os riscos.*\n",
        "\n",
        "* **MVP**\n",
        "\n",
        "> *Mínimo Produto Viável - É o menor esforço que se pode fazer para gerar um aprendizado.*\n"
      ]
    }
  ]
}