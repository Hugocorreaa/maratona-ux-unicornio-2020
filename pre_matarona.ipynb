{
  "nbformat": 4,
  "nbformat_minor": 0,
  "metadata": {
    "colab": {
      "name": "pre_matarona.ipynb",
      "provenance": [],
      "authorship_tag": "ABX9TyNmpjP0UHnarwRu3/u93uk/",
      "include_colab_link": true
    },
    "kernelspec": {
      "name": "python3",
      "display_name": "Python 3"
    }
  },
  "cells": [
    {
      "cell_type": "markdown",
      "metadata": {
        "id": "view-in-github",
        "colab_type": "text"
      },
      "source": [
        "<a href=\"https://colab.research.google.com/github/Hugocorreaa/matarona-ux-unicornio/blob/main/pre_matarona.ipynb\" target=\"_parent\"><img src=\"https://colab.research.google.com/assets/colab-badge.svg\" alt=\"Open In Colab\"/></a>"
      ]
    },
    {
      "cell_type": "markdown",
      "metadata": {
        "id": "-LzchDgGh2d3"
      },
      "source": [
        "# User eXperience Design - UX"
      ]
    }
  ]
}