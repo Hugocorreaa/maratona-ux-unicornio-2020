{
  "nbformat": 4,
  "nbformat_minor": 0,
  "metadata": {
    "colab": {
      "name": "pre_matarona.ipynb",
      "provenance": [],
      "authorship_tag": "ABX9TyPXy35yrOE3x4ScLwsJ+B0M",
      "include_colab_link": true
    },
    "kernelspec": {
      "name": "python3",
      "display_name": "Python 3"
    }
  },
  "cells": [
    {
      "cell_type": "markdown",
      "metadata": {
        "id": "view-in-github",
        "colab_type": "text"
      },
      "source": [
        "<a href=\"https://colab.research.google.com/github/Hugocorreaa/matarona-ux-unicornio/blob/main/pre_matarona.ipynb\" target=\"_parent\"><img src=\"https://colab.research.google.com/assets/colab-badge.svg\" alt=\"Open In Colab\"/></a>"
      ]
    },
    {
      "cell_type": "markdown",
      "metadata": {
        "id": "-LzchDgGh2d3"
      },
      "source": [
        "# User eXperience Design - UX\n",
        "\n",
        "## Termos mais comúns\n",
        "\n",
        "*   **UX - User eXperience**\n",
        "*   **UI - User Interface**\n",
        "*   **Stakeholders**\n",
        "\n",
        "    > *Pessoas interessadas no projeto (Diretor da empresa, investidor, equipe).*\n",
        "\n",
        "*   **Generalista**\n",
        "*   **Especialista**\n",
        "*   **UX Researcher**\n",
        "\n",
        "    > *Especialista em pesquisa.*\n",
        "\n",
        "*   **T-shaped professional**\n",
        "\n",
        "    > *Generalista que é especializado em algo.*\n",
        "\n",
        "*   **Valor de produto**\n",
        "\n",
        "    > *Valor é entregar os benefícios esperados reduzindo os custos e minimizando os riscos.*\n",
        "\n",
        "*   **MVP**\n",
        "\n",
        "    > *Mínimo Produto Viável - É o menor esforço que se pode fazer para gerar um aprendizado.*\n",
        "\n",
        "*ex. Lançar um aplicativo a curto prazo e ir implementando melhorias de acordo com exigências do usuário.*\n",
        "\n",
        "*   **Benchmack**\n",
        "\n",
        "    > *Avaliação do mercado antes de lançar o aplicativo.*\n",
        "\n",
        "*   **Frameworks**\n",
        "\n",
        "    > *Bibliotecas de código*\n",
        "\n",
        "ex. Bootstrap; Foundation; Materialize\n",
        "\n",
        "*   **Briefing**\n",
        "\n",
        "    > *Um evento ou etapa de um projeto para conversar com o cliente para saber o que ele quer.*\n",
        "\n",
        "*   **Jornada do Usuário**\n",
        "\n",
        "    > *Como um usuário age sem seu produto.*\n",
        "\n",
        "*   **Roadmaps**\n",
        "    \n",
        "    > *Estrutura para mostrar quais serão as próximas etapas do projeto. É composto por entregas ou releases.*\n",
        "\n",
        "*   **Releases**\n",
        "\n",
        "    > *Entregas de um projeto.*\n",
        "\n",
        "*   **Protótipo**\n",
        "\n",
        "    > *Primeira versão do projeto.*\n",
        "\n",
        "Sites para fazer protótipos: \n",
        "   https://www.figma.com\n",
        "   https://adele.uxpin.com/\n",
        "\n",
        "*   **Design de interação**\n",
        "\n",
        "    > *Quais as tarefas que o usuário precisa fazer para conseguir o que ele quer no aplicativo.*\n",
        "\n",
        "*   **CTA**\n",
        "\n",
        "    > *Call To Action - Chamada para ação. Botão com relevância maior*\n",
        "\n",
        "*   **Usabilidade**\n",
        "\n"
      ]
    }
  ]
}