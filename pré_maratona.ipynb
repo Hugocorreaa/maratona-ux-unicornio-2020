{
  "nbformat": 4,
  "nbformat_minor": 0,
  "metadata": {
    "colab": {
      "name": "pré-maratona.ipynb",
      "provenance": [],
      "collapsed_sections": [],
      "authorship_tag": "ABX9TyPo8TI5InXj1KuM1mXaqZSN",
      "include_colab_link": true
    },
    "kernelspec": {
      "name": "python3",
      "display_name": "Python 3"
    }
  },
  "cells": [
    {
      "cell_type": "markdown",
      "metadata": {
        "id": "view-in-github",
        "colab_type": "text"
      },
      "source": [
        "<a href=\"https://colab.research.google.com/github/Hugocorreaa/matarona-ux-unicornio/blob/main/pr%C3%A9_maratona.ipynb\" target=\"_parent\"><img src=\"https://colab.research.google.com/assets/colab-badge.svg\" alt=\"Open In Colab\"/></a>"
      ]
    },
    {
      "cell_type": "markdown",
      "metadata": {
        "id": "lklQdm-DaI2X"
      },
      "source": [
        "# User eXperience Deseign - UX\n",
        "\n",
        "## Termos mais comuns \n",
        "\n",
        "* Design \n",
        "* Designer\n",
        "\n",
        "\n"
      ]
    }
  ]
}