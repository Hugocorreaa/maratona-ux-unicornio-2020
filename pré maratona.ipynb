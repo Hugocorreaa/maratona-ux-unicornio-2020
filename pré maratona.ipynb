{
  "nbformat": 4,
  "nbformat_minor": 0,
  "metadata": {
    "colab": {
      "name": "UX.ipynb",
      "provenance": [],
      "authorship_tag": "ABX9TyOYLcHayXz4nxObabN5AL0v",
      "include_colab_link": true
    },
    "kernelspec": {
      "name": "python3",
      "display_name": "Python 3"
    }
  },
  "cells": [
    {
      "cell_type": "markdown",
      "metadata": {
        "id": "view-in-github",
        "colab_type": "text"
      },
      "source": [
        "<a href=\"https://colab.research.google.com/github/Hugocorreaa/matarona-ux-unicornio/blob/main/pr%C3%A9%20maratona.ipynb\" target=\"_parent\"><img src=\"https://colab.research.google.com/assets/colab-badge.svg\" alt=\"Open In Colab\"/></a>"
      ]
    },
    {
      "cell_type": "markdown",
      "metadata": {
        "id": "lklQdm-DaI2X"
      },
      "source": [
        "# User eXperience Deseign - UX\n",
        "\n",
        "## Termos mais comuns \n",
        "\n",
        "* Design \n",
        "* Designer\n",
        "\n",
        "\n"
      ]
    },
    {
      "cell_type": "code",
      "metadata": {
        "id": "xVVPpyOUQlmV"
      },
      "source": [
        ""
      ],
      "execution_count": null,
      "outputs": []
    }
  ]
}